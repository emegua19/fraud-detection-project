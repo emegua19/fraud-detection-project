{
 "cells": [
  {
   "cell_type": "code",
   "execution_count": 22,
   "id": "38e6f15e-40ea-4d62-a4f4-86892d2d87ce",
   "metadata": {},
   "outputs": [],
   "source": [
    "# 📓 05_geolocation_merge.ipynb\n",
    "\n",
    "# === 1. Imports and Setup ===\n",
    "import pandas as pd\n",
    "import numpy as np\n",
    "import ipaddress\n",
    "import os\n",
    "import sys\n",
    "\n",
    "sys.path.append(os.path.abspath(\"../\"))\n",
    "\n",
    "from src.config import FRAUD_CLEANED_PATH, IP_COUNTRY_PATH, FRAUD_WITH_GEO_PATH\n",
    "from src.utils import load_csv\n"
   ]
  },
  {
   "cell_type": "code",
   "execution_count": 23,
   "id": "5fdf77ff-f268-47a1-9e0b-a1fecb800c36",
   "metadata": {},
   "outputs": [
    {
     "name": "stdout",
     "output_type": "stream",
     "text": [
      "[INFO] Loaded data: C:\\Users\\yitbie\\Desktop\\10A\\project\\fraud-detection-project\\data\\processed\\fraud_cleaned.csv | Shape: (151112, 11)\n",
      "[INFO] Loaded data: C:\\Users\\yitbie\\Desktop\\10A\\project\\fraud-detection-project\\data\\raw\\IpAddress_to_Country.csv | Shape: (138846, 3)\n"
     ]
    }
   ],
   "source": [
    "# === 2. Load Data ===\n",
    "fraud_df = load_csv(FRAUD_CLEANED_PATH)\n",
    "ip_map_df = load_csv(IP_COUNTRY_PATH)\n"
   ]
  },
  {
   "cell_type": "code",
   "execution_count": 24,
   "id": "536995da-bb5d-4cc0-aca6-ebd07e748c9b",
   "metadata": {},
   "outputs": [
    {
     "name": "stdout",
     "output_type": "stream",
     "text": [
      "Sample IP values:\n",
      "0    7.327584e+08\n",
      "1    3.503114e+08\n",
      "2    2.621474e+09\n",
      "3    3.840542e+09\n",
      "4    4.155831e+08\n",
      "5    2.809315e+09\n",
      "6    3.987484e+09\n",
      "7    1.692459e+09\n",
      "8    3.719094e+09\n",
      "9    3.416747e+08\n",
      "Name: ip_address, dtype: float64\n",
      "Dtype: float64\n"
     ]
    }
   ],
   "source": [
    "# Check sample IPs\n",
    "print(\"Sample IP values:\")\n",
    "print(fraud_df['ip_address'].head(10))\n",
    "print(\"Dtype:\", fraud_df['ip_address'].dtype)\n"
   ]
  },
  {
   "cell_type": "code",
   "execution_count": 25,
   "id": "bb462672-1512-4074-a29a-571cefbf3522",
   "metadata": {},
   "outputs": [
    {
     "name": "stdout",
     "output_type": "stream",
     "text": [
      "❗ Non-numeric IP entries: 0\n",
      "Empty DataFrame\n",
      "Columns: [user_id, signup_time, purchase_time, purchase_value, device_id, source, browser, sex, age, ip_address, class]\n",
      "Index: []\n"
     ]
    }
   ],
   "source": [
    "\n",
    "# Check if all IPs are numeric\n",
    "non_numeric_ips = fraud_df[~fraud_df['ip_address'].apply(lambda x: isinstance(x, (int, float)))]\n",
    "\n",
    "print(f\"❗ Non-numeric IP entries: {len(non_numeric_ips)}\")\n",
    "print(non_numeric_ips.head())\n"
   ]
  },
  {
   "cell_type": "code",
   "execution_count": 29,
   "id": "519c36dc-150b-4f57-81e2-c21b36e70125",
   "metadata": {},
   "outputs": [
    {
     "name": "stdout",
     "output_type": "stream",
     "text": [
      "Cleaned and converted ip_address to ip_int.\n"
     ]
    }
   ],
   "source": [
    "# Drop rows where ip_address is NaN\n",
    "fraud_df = fraud_df.dropna(subset=[\"ip_address\"])\n",
    "\n",
    "# Convert to uint32 (ensure match with IP range)\n",
    "fraud_df['ip_int'] = fraud_df['ip_address'].astype(np.uint32)\n",
    "\n",
    "print(\"Cleaned and converted ip_address to ip_int.\")\n"
   ]
  },
  {
   "cell_type": "code",
   "execution_count": 30,
   "id": "8e07b2eb-19d8-49c9-b5ee-244d6e1787ea",
   "metadata": {},
   "outputs": [],
   "source": [
    "# === Range Join Function ===\n",
    "def find_country(ip):\n",
    "    match = ip_map_df[\n",
    "        (ip_map_df['lower_bound_ip_address'] <= ip) &\n",
    "        (ip_map_df['upper_bound_ip_address'] >= ip)\n",
    "    ]\n",
    "    return match['country'].values[0] if not match.empty else \"Unknown\"\n",
    "\n",
    "fraud_df['country'] = fraud_df['ip_int'].apply(find_country)\n"
   ]
  },
  {
   "cell_type": "code",
   "execution_count": 31,
   "id": "486ad524-a4c2-4058-9622-4aa84aee4e35",
   "metadata": {},
   "outputs": [
    {
     "name": "stdout",
     "output_type": "stream",
     "text": [
      "     ip_address      ip_int        country\n",
      "0  7.327584e+08   732758368          Japan\n",
      "1  3.503114e+08   350311387  United States\n",
      "2  2.621474e+09  2621473820  United States\n",
      "3  3.840542e+09  3840542443        Unknown\n",
      "4  4.155831e+08   415583117  United States\n",
      " Saved merged dataset to C:\\Users\\yitbie\\Desktop\\10A\\project\\fraud-detection-project\\data\\processed\\fraud_with_geo.csv\n"
     ]
    }
   ],
   "source": [
    "# === 6. Preview + Save ===\n",
    "print(fraud_df[['ip_address', 'ip_int', 'country']].head())\n",
    "\n",
    "fraud_df.to_csv(FRAUD_WITH_GEO_PATH, index=False)\n",
    "print(f\" Saved merged dataset to {FRAUD_WITH_GEO_PATH}\")\n"
   ]
  },
  {
   "cell_type": "code",
   "execution_count": 17,
   "id": "62f6b325-58c6-4d7c-82b0-ec8fe325aba3",
   "metadata": {},
   "outputs": [
    {
     "name": "stdout",
     "output_type": "stream",
     "text": [
      "Sample IP values:\n",
      "Series([], Name: ip_address, dtype: float64)\n",
      "Dtype: float64\n"
     ]
    }
   ],
   "source": []
  },
  {
   "cell_type": "code",
   "execution_count": null,
   "id": "6155ef99-da0a-4724-95af-4a0522d37cf9",
   "metadata": {},
   "outputs": [],
   "source": []
  }
 ],
 "metadata": {
  "kernelspec": {
   "display_name": "Python 3 (ipykernel)",
   "language": "python",
   "name": "python3"
  },
  "language_info": {
   "codemirror_mode": {
    "name": "ipython",
    "version": 3
   },
   "file_extension": ".py",
   "mimetype": "text/x-python",
   "name": "python",
   "nbconvert_exporter": "python",
   "pygments_lexer": "ipython3",
   "version": "3.10.11"
  }
 },
 "nbformat": 4,
 "nbformat_minor": 5
}
