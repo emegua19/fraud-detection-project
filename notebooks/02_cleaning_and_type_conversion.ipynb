{
 "cells": [
  {
   "cell_type": "code",
   "execution_count": 1,
   "id": "4e78bdf0-8b1e-472c-a827-68ae4b9382d2",
   "metadata": {},
   "outputs": [
    {
     "name": "stdout",
     "output_type": "stream",
     "text": [
      "[INFO] Loaded data: C:\\Users\\yitbie\\Desktop\\10A\\project\\fraud-detection-project\\data\\processed\\fraud_cleaned.csv | Shape: (151112, 11)\n"
     ]
    }
   ],
   "source": [
    "# 📓 02_cleaning_and_type_conversion.ipynb\n",
    "\n",
    "# === 1. Imports and Setup ===\n",
    "import pandas as pd\n",
    "import numpy as np\n",
    "import sys\n",
    "import os\n",
    "\n",
    "# Add src/ to path\n",
    "sys.path.append(os.path.abspath(\"../\"))\n",
    "\n",
    "from src.config import FRAUD_CLEANED_PATH, FRAUD_WITH_GEO_PATH\n",
    "from src.utils import load_csv, convert_to_datetime\n",
    "\n",
    "# === 2. Load Pre-Cleaned Data ===\n",
    "fraud_df = load_csv(FRAUD_CLEANED_PATH)\n"
   ]
  },
  {
   "cell_type": "code",
   "execution_count": 2,
   "id": "23190bca-ca93-4efe-8f07-5fba2dd657d6",
   "metadata": {},
   "outputs": [
    {
     "name": "stdout",
     "output_type": "stream",
     "text": [
      " Removed 0 duplicate rows.\n"
     ]
    }
   ],
   "source": [
    "# === 3. Remove Duplicates ===\n",
    "before = fraud_df.shape[0]\n",
    "fraud_df = fraud_df.drop_duplicates()\n",
    "after = fraud_df.shape[0]\n",
    "\n",
    "print(f\" Removed {before - after} duplicate rows.\")\n"
   ]
  },
  {
   "cell_type": "code",
   "execution_count": 3,
   "id": "124309b4-ac73-4410-b851-428abeb6c5e1",
   "metadata": {},
   "outputs": [
    {
     "name": "stdout",
     "output_type": "stream",
     "text": [
      "signup_time dtype: datetime64[ns]\n",
      "purchase_time dtype: datetime64[ns]\n"
     ]
    }
   ],
   "source": [
    "# === 4. Convert to Datetime ===\n",
    "fraud_df = convert_to_datetime(fraud_df, [\"signup_time\", \"purchase_time\"])\n",
    "\n",
    "# Confirm conversion\n",
    "print(\"signup_time dtype:\", fraud_df['signup_time'].dtype)\n",
    "print(\"purchase_time dtype:\", fraud_df['purchase_time'].dtype)\n"
   ]
  },
  {
   "cell_type": "code",
   "execution_count": 4,
   "id": "3e3f7442-d704-4312-b677-921ca082845b",
   "metadata": {},
   "outputs": [
    {
     "name": "stdout",
     "output_type": "stream",
     "text": [
      "\n",
      " Data Types:\n",
      "user_id                    int64\n",
      "signup_time       datetime64[ns]\n",
      "purchase_time     datetime64[ns]\n",
      "purchase_value             int64\n",
      "device_id                 object\n",
      "source                    object\n",
      "browser                   object\n",
      "sex                       object\n",
      "age                        int64\n",
      "ip_address               float64\n",
      "class                      int64\n",
      "dtype: object\n"
     ]
    }
   ],
   "source": [
    "# === 5. Check Data Types ===\n",
    "print(\"\\n Data Types:\")\n",
    "print(fraud_df.dtypes)\n"
   ]
  },
  {
   "cell_type": "code",
   "execution_count": 5,
   "id": "eb184690-c840-4e31-a925-a527cfd35a6d",
   "metadata": {},
   "outputs": [
    {
     "name": "stdout",
     "output_type": "stream",
     "text": [
      "Preview of cleaned fraud_df:\n",
      "   user_id         signup_time       purchase_time  purchase_value  \\\n",
      "0    22058 2015-02-24 22:55:49 2015-04-18 02:47:11              34   \n",
      "1   333320 2015-06-07 20:39:50 2015-06-08 01:38:54              16   \n",
      "2     1359 2015-01-01 18:52:44 2015-01-01 18:52:45              15   \n",
      "3   150084 2015-04-28 21:13:25 2015-05-04 13:54:50              44   \n",
      "4   221365 2015-07-21 07:09:52 2015-09-09 18:40:53              39   \n",
      "\n",
      "       device_id source browser sex  age    ip_address  class  \n",
      "0  QVPSPJUOCKZAR    SEO  Chrome   M   39  7.327584e+08      0  \n",
      "1  EOGFQPIZPYXFZ    Ads  Chrome   F   53  3.503114e+08      0  \n",
      "2  YSSKYOSJHPPLJ    SEO   Opera   M   53  2.621474e+09      1  \n",
      "3  ATGTXKYKUDUQN    SEO  Safari   M   41  3.840542e+09      0  \n",
      "4  NAUITBZFJKHWW    Ads  Safari   M   45  4.155831e+08      0  \n"
     ]
    }
   ],
   "source": [
    "# === 6. Preview Final Cleaned Data ===\n",
    "print(\"Preview of cleaned fraud_df:\")\n",
    "print(fraud_df.head())\n"
   ]
  },
  {
   "cell_type": "code",
   "execution_count": 6,
   "id": "8b50cc6f-6893-4081-a1a5-eceaeb38a9b6",
   "metadata": {},
   "outputs": [
    {
     "name": "stdout",
     "output_type": "stream",
     "text": [
      "Saved updated cleaned data to: C:\\Users\\yitbie\\Desktop\\10A\\project\\fraud-detection-project\\data\\processed\\fraud_cleaned.csv\n"
     ]
    }
   ],
   "source": [
    "# === 7. Save the Cleaned Output Again (overwriting fraud_cleaned.csv) ===\n",
    "fraud_df.to_csv(FRAUD_CLEANED_PATH, index=False)\n",
    "print(f\"Saved updated cleaned data to: {FRAUD_CLEANED_PATH}\")\n"
   ]
  },
  {
   "cell_type": "code",
   "execution_count": null,
   "id": "fe356546-86f2-40c5-8245-8d4850b07e8d",
   "metadata": {},
   "outputs": [],
   "source": []
  }
 ],
 "metadata": {
  "kernelspec": {
   "display_name": "Python 3 (ipykernel)",
   "language": "python",
   "name": "python3"
  },
  "language_info": {
   "codemirror_mode": {
    "name": "ipython",
    "version": 3
   },
   "file_extension": ".py",
   "mimetype": "text/x-python",
   "name": "python",
   "nbconvert_exporter": "python",
   "pygments_lexer": "ipython3",
   "version": "3.10.11"
  }
 },
 "nbformat": 4,
 "nbformat_minor": 5
}
