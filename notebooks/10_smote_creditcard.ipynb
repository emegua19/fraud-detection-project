{
 "cells": [
  {
   "cell_type": "code",
   "execution_count": 6,
   "id": "7772e1d4-07fd-4658-b7a6-584d6a98ca10",
   "metadata": {},
   "outputs": [],
   "source": [
    "# 📓 10_smote_creditcard.ipynb\n",
    "\n",
    "# === 1. Setup ===\n",
    "import pandas as pd\n",
    "import matplotlib.pyplot as plt\n",
    "import seaborn as sns\n",
    "import os\n",
    "import sys\n",
    "\n",
    "sys.path.append(os.path.abspath(\"../\"))\n",
    "from src.utils import load_csv\n",
    "\n",
    "from sklearn.model_selection import train_test_split\n",
    "from imblearn.over_sampling import SMOTE\n",
    "\n",
    "sns.set(style=\"whitegrid\")"
   ]
  },
  {
   "cell_type": "code",
   "execution_count": 7,
   "id": "4a14d68a-e940-4e7c-9979-4ab20a148186",
   "metadata": {},
   "outputs": [
    {
     "name": "stdout",
     "output_type": "stream",
     "text": [
      "[INFO] Loaded data: ../data/processed/creditcard_cleaned.csv | Shape: (284807, 31)\n"
     ]
    }
   ],
   "source": [
    "# === 2. Load Cleaned Creditcard Data ===\n",
    "df = load_csv(\"../data/processed/creditcard_cleaned.csv\")"
   ]
  },
  {
   "cell_type": "code",
   "execution_count": 8,
   "id": "c9f58bc7-451c-4be5-9c89-d8d526e23fda",
   "metadata": {},
   "outputs": [],
   "source": [
    "# === 3. Split features and target ===\n",
    "X = df.drop(columns=[\"Class\"])\n",
    "y = df[\"Class\"]"
   ]
  },
  {
   "cell_type": "code",
   "execution_count": 9,
   "id": "ee950d26-21d5-4d3a-831b-d799527d459a",
   "metadata": {},
   "outputs": [],
   "source": [
    "# === 4. Train-test split (just for SMOTE baseline) ===\n",
    "X_train, _, y_train, _ = train_test_split(X, y, test_size=0.2, stratify=y, random_state=42)\n",
    "\n",
    "# Keep only numeric columns for SMOTE\n",
    "X_numeric = X_train.select_dtypes(include=[\"int64\", \"float64\"])\n",
    "\n",
    "# === 5. Apply SMOTE ===\n",
    "smote = SMOTE(random_state=42)\n",
    "X_res, y_res = smote.fit_resample(X_numeric, y_train)"
   ]
  },
  {
   "cell_type": "code",
   "execution_count": 11,
   "id": "a2f99a03-2897-42dd-a036-df5471bb9ad4",
   "metadata": {},
   "outputs": [
    {
     "name": "stdout",
     "output_type": "stream",
     "text": [
      "[INFO] Saved class distribution plot: ../reports/figures/creditcard_fig/creditcard_class_dist_after_smote.png\n",
      "[INFO] Saved balanced dataset to: ../data/processed/creditcard_balanced_smote.csv\n",
      "[INFO] Reloaded shape: (454902, 31)\n",
      "[INFO] Class distribution:\n",
      " Class\n",
      "0    0.5\n",
      "1    0.5\n",
      "Name: proportion, dtype: float64\n"
     ]
    },
    {
     "data": {
      "image/png": "[encoded data removed]",
      "text/plain": [
       "<Figure size 600x400 with 1 Axes>"
      ]
     },
     "metadata": {},
     "output_type": "display_data"
    }
   ],
   "source": [
    "# === 6. Visualize result ===\n",
    "fig, ax = plt.subplots(figsize=(6, 4))\n",
    "sns.countplot(x=y_res, ax=ax)\n",
    "ax.set_title(\"Creditcard Class Distribution after SMOTE\")\n",
    "plt.tight_layout()\n",
    "\n",
    "# Save figure\n",
    "fig_path = \"../reports/figures/creditcard_fig/creditcard_class_dist_after_smote.png\"\n",
    "os.makedirs(os.path.dirname(fig_path), exist_ok=True)\n",
    "fig.savefig(fig_path)\n",
    "print(f\"[INFO] Saved class distribution plot: {fig_path}\")\n",
    "\n",
    "# === 7. Merge and Save Balanced Dataset ===\n",
    "X_res[\"Class\"] = y_res\n",
    "out_path = \"../data/processed/creditcard_balanced_smote.csv\"\n",
    "X_res.to_csv(out_path, index=False)\n",
    "print(f\"[INFO] Saved balanced dataset to: {out_path}\")\n",
    "\n",
    "# === 8. Check Result ===\n",
    "check = pd.read_csv(out_path)\n",
    "print(\"[INFO] Reloaded shape:\", check.shape)\n",
    "print(\"[INFO] Class distribution:\\n\", check['Class'].value_counts(normalize=True))"
   ]
  },
  {
   "cell_type": "code",
   "execution_count": null,
   "id": "22da3aaf-9517-4df3-afda-5093fc0c96c6",
   "metadata": {},
   "outputs": [],
   "source": []
  }
 ],
 "metadata": {
  "kernelspec": {
   "display_name": "Python 3 (ipykernel)",
   "language": "python",
   "name": "python3"
  },
  "language_info": {
   "codemirror_mode": {
    "name": "ipython",
    "version": 3
   },
   "file_extension": ".py",
   "mimetype": "text/x-python",
   "name": "python",
   "nbconvert_exporter": "python",
   "pygments_lexer": "ipython3",
   "version": "3.10.11"
  }
 },
 "nbformat": 4,
 "nbformat_minor": 5
}
