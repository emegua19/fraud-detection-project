{
 "cells": [
  {
   "cell_type": "code",
   "execution_count": 21,
   "id": "5fb8670b-3b0a-4b21-b30f-1d1c59f96e33",
   "metadata": {},
   "outputs": [
    {
     "name": "stdout",
     "output_type": "stream",
     "text": [
      "[INFO] Loaded data: C:\\Users\\yitbie\\Desktop\\10A\\project\\fraud-detection-project\\data\\processed\\train_balanced_smote.csv | Shape: (219136, 12)\n"
     ]
    }
   ],
   "source": [
    "import pandas as pd\n",
    "import os\n",
    "from sklearn.preprocessing import StandardScaler\n",
    "from src.config import PROCESSED_DATA_DIR\n",
    "from src.utils import load_csv\n",
    "\n",
    "# Load file\n",
    "data_path = os.path.join(PROCESSED_DATA_DIR, \"train_balanced_smote.csv\")\n",
    "df = load_csv(data_path)\n",
    "\n",
    "# Drop ID and IP address (non-numeric + not predictive)\n",
    "df = df.drop(columns=[\"user_id\", \"ip_address\"])\n"
   ]
  },
  {
   "cell_type": "code",
   "execution_count": 22,
   "id": "ff2eb3b6-7713-44a7-b669-0c69d3163b66",
   "metadata": {},
   "outputs": [],
   "source": [
    "target_col = \"class\"\n",
    "X = df.drop(columns=[target_col])\n",
    "y = df[target_col]\n"
   ]
  },
  {
   "cell_type": "code",
   "execution_count": 23,
   "id": "f3406097-47fa-4b2c-94d4-fab4cc6aa7fd",
   "metadata": {},
   "outputs": [
    {
     "data": {
      "text/html": [
       "<div>\n",
       "<style scoped>\n",
       "    .dataframe tbody tr th:only-of-type {\n",
       "        vertical-align: middle;\n",
       "    }\n",
       "\n",
       "    .dataframe tbody tr th {\n",
       "        vertical-align: top;\n",
       "    }\n",
       "\n",
       "    .dataframe thead th {\n",
       "        text-align: right;\n",
       "    }\n",
       "</style>\n",
       "<table border=\"1\" class=\"dataframe\">\n",
       "  <thead>\n",
       "    <tr style=\"text-align: right;\">\n",
       "      <th></th>\n",
       "      <th>purchase_value</th>\n",
       "      <th>age</th>\n",
       "      <th>ip_int</th>\n",
       "      <th>hour_of_day</th>\n",
       "      <th>day_of_week</th>\n",
       "      <th>time_since_signup</th>\n",
       "      <th>user_tx_count</th>\n",
       "      <th>device_tx_count</th>\n",
       "      <th>ip_tx_count</th>\n",
       "      <th>class</th>\n",
       "    </tr>\n",
       "  </thead>\n",
       "  <tbody>\n",
       "    <tr>\n",
       "      <th>0</th>\n",
       "      <td>0.177247</td>\n",
       "      <td>0.348359</td>\n",
       "      <td>-1.145647</td>\n",
       "      <td>-0.976214</td>\n",
       "      <td>0.015701</td>\n",
       "      <td>-0.958998</td>\n",
       "      <td>0.0</td>\n",
       "      <td>-0.651098</td>\n",
       "      <td>-0.631207</td>\n",
       "      <td>0</td>\n",
       "    </tr>\n",
       "    <tr>\n",
       "      <th>1</th>\n",
       "      <td>-0.672465</td>\n",
       "      <td>-0.253979</td>\n",
       "      <td>1.332841</td>\n",
       "      <td>0.691957</td>\n",
       "      <td>-1.010741</td>\n",
       "      <td>1.579852</td>\n",
       "      <td>0.0</td>\n",
       "      <td>-0.651098</td>\n",
       "      <td>-0.631207</td>\n",
       "      <td>0</td>\n",
       "    </tr>\n",
       "    <tr>\n",
       "      <th>2</th>\n",
       "      <td>0.573780</td>\n",
       "      <td>0.950696</td>\n",
       "      <td>1.582518</td>\n",
       "      <td>-0.369606</td>\n",
       "      <td>-1.010741</td>\n",
       "      <td>1.297389</td>\n",
       "      <td>0.0</td>\n",
       "      <td>-0.651098</td>\n",
       "      <td>-0.631207</td>\n",
       "      <td>0</td>\n",
       "    </tr>\n",
       "    <tr>\n",
       "      <th>3</th>\n",
       "      <td>2.783031</td>\n",
       "      <td>1.071164</td>\n",
       "      <td>-1.230732</td>\n",
       "      <td>1.298564</td>\n",
       "      <td>0.015701</td>\n",
       "      <td>-0.178536</td>\n",
       "      <td>0.0</td>\n",
       "      <td>-0.651098</td>\n",
       "      <td>-0.631207</td>\n",
       "      <td>0</td>\n",
       "    </tr>\n",
       "    <tr>\n",
       "      <th>4</th>\n",
       "      <td>0.177247</td>\n",
       "      <td>1.071164</td>\n",
       "      <td>-1.583237</td>\n",
       "      <td>0.085349</td>\n",
       "      <td>-1.523962</td>\n",
       "      <td>-0.874629</td>\n",
       "      <td>0.0</td>\n",
       "      <td>-0.651098</td>\n",
       "      <td>-0.631207</td>\n",
       "      <td>0</td>\n",
       "    </tr>\n",
       "  </tbody>\n",
       "</table>\n",
       "</div>"
      ],
      "text/plain": [
       "   purchase_value       age    ip_int  hour_of_day  day_of_week  \\\n",
       "0        0.177247  0.348359 -1.145647    -0.976214     0.015701   \n",
       "1       -0.672465 -0.253979  1.332841     0.691957    -1.010741   \n",
       "2        0.573780  0.950696  1.582518    -0.369606    -1.010741   \n",
       "3        2.783031  1.071164 -1.230732     1.298564     0.015701   \n",
       "4        0.177247  1.071164 -1.583237     0.085349    -1.523962   \n",
       "\n",
       "   time_since_signup  user_tx_count  device_tx_count  ip_tx_count  class  \n",
       "0          -0.958998            0.0        -0.651098    -0.631207      0  \n",
       "1           1.579852            0.0        -0.651098    -0.631207      0  \n",
       "2           1.297389            0.0        -0.651098    -0.631207      0  \n",
       "3          -0.178536            0.0        -0.651098    -0.631207      0  \n",
       "4          -0.874629            0.0        -0.651098    -0.631207      0  "
      ]
     },
     "execution_count": 23,
     "metadata": {},
     "output_type": "execute_result"
    }
   ],
   "source": [
    "scaler = StandardScaler()\n",
    "X_scaled = scaler.fit_transform(X)\n",
    "\n",
    "# Convert to DataFrame\n",
    "X_scaled_df = pd.DataFrame(X_scaled, columns=X.columns)\n",
    "X_scaled_df[target_col] = y.values\n",
    "X_scaled_df.head()\n"
   ]
  },
  {
   "cell_type": "code",
   "execution_count": 26,
   "id": "a2b101af-b4c6-49a9-81cc-09bbea7e363d",
   "metadata": {},
   "outputs": [
    {
     "name": "stdout",
     "output_type": "stream",
     "text": [
      "[INFO] Scaled training data saved to: C:\\Users\\yitbie\\Desktop\\10A\\project\\fraud-detection-project\\data\\processed\\train_ready.csv\n"
     ]
    }
   ],
   "source": [
    "output_path = os.path.join(PROCESSED_DATA_DIR, \"train_ready.csv\")\n",
    "X_scaled_df.to_csv(output_path, index=False)\n",
    "print(f\"[INFO] Scaled training data saved to: {output_path}\")\n"
   ]
  },
  {
   "cell_type": "code",
   "execution_count": 12,
   "id": "09f2fdb5-3f02-4d16-afd8-6d068fd38eb6",
   "metadata": {},
   "outputs": [
    {
     "name": "stdout",
     "output_type": "stream",
     "text": [
      "scikit-learn version: 1.6.1\n"
     ]
    }
   ],
   "source": []
  },
  {
   "cell_type": "code",
   "execution_count": null,
   "id": "a94dc108-5bfd-48d8-b5fb-6691bc65c351",
   "metadata": {},
   "outputs": [],
   "source": []
  }
 ],
 "metadata": {
  "kernelspec": {
   "display_name": "Python 3 (ipykernel)",
   "language": "python",
   "name": "python3"
  },
  "language_info": {
   "codemirror_mode": {
    "name": "ipython",
    "version": 3
   },
   "file_extension": ".py",
   "mimetype": "text/x-python",
   "name": "python",
   "nbconvert_exporter": "python",
   "pygments_lexer": "ipython3",
   "version": "3.10.11"
  }
 },
 "nbformat": 4,
 "nbformat_minor": 5
}
